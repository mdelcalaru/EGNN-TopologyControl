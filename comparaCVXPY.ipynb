{
 "cells": [
  {
   "cell_type": "code",
   "execution_count": 1,
   "metadata": {},
   "outputs": [],
   "source": [
    "import numpy as np\n",
    "import matplotlib.pyplot as plt\n",
    "from mpl_toolkits.axes_grid1 import make_axes_locatable\n",
    "\n",
    "import torch\n",
    "from utils.channel_model import expModel\n",
    "from utils.utils import evalModelConvex\n",
    "from graph_dataset_utils import edge_index_gen\n",
    "from graph_model import LightningEGNN_net\n",
    "#from utils.MNF_cvxpy import MNF_share_solver\n",
    "from utils.old_MNF import MNF_share_solver"
   ]
  },
  {
   "cell_type": "code",
   "execution_count": 2,
   "metadata": {},
   "outputs": [],
   "source": [
    "K=3\n",
    "canal=expModel(indicatrix=True)\n",
    "Kopts=np.arange(K*(K-1))\n"
   ]
  },
  {
   "cell_type": "code",
   "execution_count": 6,
   "metadata": {},
   "outputs": [],
   "source": [
    "dist=(canal.rango)*1.2\n",
    "TA=np.array([[0.0,0.0],[dist,0.0],[0.0,dist]])\n",
    "NA=np.array([[0.5,0.5]])\n",
    "rango=0\n",
    "x=np.linspace(rango,(dist-rango),int(1*((dist))+1))\n",
    "y=np.linspace(rango,(dist-rango),int(1*((dist))+1))\n",
    "c_mapCVXPY=np.empty((len(x),len(y)))\n",
    "mfr=MNF_share_solver(task_config=TA,comm_config=NA, channel=canal, Kopts=Kopts)\n",
    "for c_i, i in enumerate(x):\n",
    "    for c_j, j in enumerate(y):\n",
    "        NA[0,0]=i\n",
    "        NA[0,1]=j\n",
    "        #print(NA)\n",
    "        mfr.update_channel(task_config=TA,comm_config=NA)\n",
    "        try: \n",
    "            C_inicial,_,_,_, status=mfr.solver()#(task_config=TA,comm_config=NA)\n",
    "            c_mapCVXPY[c_i,c_j]=C_inicial\n",
    "        except:\n",
    "            c_mapCVXPY[c_i,c_j]=-30\n",
    "\n"
   ]
  },
  {
   "cell_type": "code",
   "execution_count": 4,
   "metadata": {},
   "outputs": [],
   "source": [
    "dist2=(canal.rango)*1.0\n",
    "TA2=np.array([[0.0,0.0],[0.0,dist2],[dist2,0.0]])\n",
    "NA2=np.array([[0.5,0.5]])\n",
    "rango=0\n",
    "x2=np.linspace(rango,(dist2-rango),int(1*((dist2))+1))\n",
    "y2=np.linspace(rango,(dist2-rango),int(1*((dist2))+1))\n",
    "c_mapCVXPY2=np.empty((len(x2),len(y2)))\n",
    "mfr2=MNF_share_solver(task_config=TA2,comm_config=NA2, channel=canal, Kopts=Kopts)\n",
    "for c_i, i in enumerate(x2):\n",
    "    for c_j, j in enumerate(y2):\n",
    "        NA2[0,0]=i\n",
    "        NA2[0,1]=j\n",
    "        #print(NA)\n",
    "        mfr2.update_channel(task_config=TA2,comm_config=NA2)\n",
    "        #try: \n",
    "        C_inicial2,_,_,_, status=mfr2.solver()#(task_config=TA,comm_config=NA)\n",
    "        c_mapCVXPY2[c_i,c_j]=C_inicial2\n",
    "\n",
    "    #except:\n",
    "        #   pass\n"
   ]
  },
  {
   "cell_type": "code",
   "execution_count": null,
   "metadata": {},
   "outputs": [],
   "source": [
    "print(c_mapCVXPY2)"
   ]
  },
  {
   "cell_type": "code",
   "execution_count": null,
   "metadata": {},
   "outputs": [],
   "source": [
    "import pickle\n",
    "with open('c_mapCVXPY_map.pkl', 'wb') as f:\n",
    "    pickle.dump(c_mapCVXPY, f)"
   ]
  },
  {
   "cell_type": "code",
   "execution_count": null,
   "metadata": {},
   "outputs": [],
   "source": [
    "import pickle\n",
    "with open('c_mapCVXPY_viejo.pkl', 'wb') as f:\n",
    "    pickle.dump(c_mapCVXPY, f)"
   ]
  },
  {
   "cell_type": "code",
   "execution_count": null,
   "metadata": {},
   "outputs": [],
   "source": [
    "import pickle\n",
    "with open('cvxpy_examples/c_mapCVXPY_map.pkl', 'rb') as f:\n",
    "    c_mapCVXPY2 = pickle.load(f)"
   ]
  },
  {
   "cell_type": "code",
   "execution_count": null,
   "metadata": {},
   "outputs": [],
   "source": [
    "import pickle\n",
    "with open('cvxpy_examples/c_mapCVXPY_indicatrix_graph_2xgrid.pkl', 'rb') as f:\n",
    "    c_mapCVXPY2 = pickle.load(f)"
   ]
  },
  {
   "cell_type": "code",
   "execution_count": 7,
   "metadata": {},
   "outputs": [
    {
     "data": {
      "image/png": "[encoded data removed]",
      "text/plain": [
       "<Figure size 1200x500 with 4 Axes>"
      ]
     },
     "metadata": {},
     "output_type": "display_data"
    }
   ],
   "source": [
    "fig =plt.figure(figsize=(12,5))\n",
    "ax0 = fig.add_subplot(1, 2, 1)\n",
    "\n",
    "ax0.plot(TA[:,0],TA[:,1],'o', color='red', markersize=15)\n",
    "\n",
    "divider = make_axes_locatable(ax0)\n",
    "cax2 = divider.append_axes(\"right\", size=\"5%\", pad=0.05)\n",
    "# Plot the matrix with the origin at the bottom left\n",
    "im2= ax0.imshow(c_mapCVXPY.T, cmap=plt.get_cmap('gray'),origin='lower',extent=[x[0], x[-1], y[0], y[-1]],vmax=c_mapCVXPY.max(), vmin=c_mapCVXPY.min())\n",
    "#im2= ax0.imshow(c_mapCVXPY, cmap=plt.get_cmap('viridis'),origin='lower',vmax=c_mapCVXPY.max(), vmin=c_mapCVXPY.min())\n",
    "\n",
    "#im2= ax1.imshow(c_map, cmap=plt.get_cmap('viridis'),extent=[x[0], x[-1], y[0], y[-1]], vmax=c_map.max(), vmin=c_map.min())\n",
    "fig.colorbar(im2,cax=cax2)\n",
    "ax0.set_title('cvxpy_old')\n",
    "\n",
    "\n",
    "ax1 = fig.add_subplot(1, 2, 2)\n",
    "\n",
    "ax1.plot(TA2[:,0],TA2[:,1],'o', color='red', markersize=15)\n",
    "\n",
    "divider = make_axes_locatable(ax1)\n",
    "cax2 = divider.append_axes(\"right\", size=\"5%\", pad=0.05)\n",
    "\n",
    "im2= ax1.imshow(c_mapCVXPY2, cmap=plt.get_cmap('gray'),origin='lower',extent=[x2[0], x2[-1], y2[0], y2[-1]],vmax=c_mapCVXPY2.max(), vmin=c_mapCVXPY2.min())\n",
    "#im2= ax1.imshow(c_map, cmap=plt.get_cmap('viridis'),extent=[x[0], x[-1], y[0], y[-1]], vmax=c_map.max(), vmin=c_map.min())\n",
    "fig.colorbar(im2,cax=cax2)\n",
    "ax1.set_title('cvxpy_rango')\n",
    "\n",
    "\n",
    "\n",
    "plt.show()"
   ]
  },
  {
   "cell_type": "code",
   "execution_count": null,
   "metadata": {},
   "outputs": [],
   "source": [
    "fig =plt.figure(figsize=(5,5))\n",
    "ax = fig.add_subplot(1, 1, 1)\n",
    "\n",
    "im2= ax.imshow(c_mapCVXPY, cmap=plt.get_cmap('gray'),\\\n",
    "                vmax=c_mapCVXPY.max(), vmin=c_mapCVXPY.min())\n",
    "ax.plot(TA[:,0],TA[:,1],'o', color='red', markersize=15)\n"
   ]
  },
  {
   "cell_type": "code",
   "execution_count": null,
   "metadata": {},
   "outputs": [],
   "source": []
  }
 ],
 "metadata": {
  "kernelspec": {
   "display_name": ".venv",
   "language": "python",
   "name": "python3"
  },
  "language_info": {
   "codemirror_mode": {
    "name": "ipython",
    "version": 3
   },
   "file_extension": ".py",
   "mimetype": "text/x-python",
   "name": "python",
   "nbconvert_exporter": "python",
   "pygments_lexer": "ipython3",
   "version": "3.10.12"
  }
 },
 "nbformat": 4,
 "nbformat_minor": 2
}
