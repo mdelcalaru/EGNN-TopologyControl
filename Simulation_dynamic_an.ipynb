{
 "cells": [
  {
   "cell_type": "code",
   "execution_count": 1,
   "metadata": {},
   "outputs": [],
   "source": [
    "import pickle as pk\n",
    "import glob\n",
    "from utils.utils import graph_plot\n",
    "import torch\n",
    "from pathlib import Path\n",
    "import matplotlib.pyplot as plt\n",
    "import matplotlib.animation as animation\n",
    "import numpy as np"
   ]
  },
  {
   "cell_type": "code",
   "execution_count": 9,
   "metadata": {},
   "outputs": [
    {
     "name": "stdout",
     "output_type": "stream",
     "text": [
      "dict_keys(['free_hist', 'reconfig_hist', 'max_c', 'c_config'])\n"
     ]
    }
   ],
   "source": [
    "file='experimento_trueValues_3T1N_1rep_1pasos.pkl'\n",
    "with open(file, 'rb') as f:\n",
    "    exp_dict = pk.load(f)\n",
    "\n",
    "print(exp_dict[0].keys())"
   ]
  },
  {
   "cell_type": "code",
   "execution_count": 10,
   "metadata": {},
   "outputs": [],
   "source": [
    "free_hist=exp_dict[0]['free_hist']\n",
    "reconfig_hist=exp_dict[0]['reconfig_hist']\n",
    "max_c=exp_dict[0]['max_c']\n",
    "c_config=exp_dict[0]['c_config']    \n"
   ]
  },
  {
   "cell_type": "code",
   "execution_count": 15,
   "metadata": {},
   "outputs": [
    {
     "name": "stdout",
     "output_type": "stream",
     "text": [
      "[0.00000000e+000 1.00000000e+000             nan             nan\n",
      " 1.00000000e+000 6.93162896e-310 3.34330000e+004 1.00000000e+000\n",
      " 1.00000000e+000             nan 1.00000000e+000             nan\n",
      " 1.00000000e+000 1.00000000e+000 6.93162896e-310 1.00000000e+000\n",
      " 6.93162896e-310             nan 6.93162896e-310             nan\n",
      "             nan 1.00000000e+000             nan 6.96411093e+252\n",
      " 1.00000000e+000 1.00000000e+000 1.00000000e+000 6.93162896e-310\n",
      " 6.93162896e-310 1.00000000e+000 6.93162896e-310 1.00000000e+000\n",
      " 1.00000000e+000 3.93042422e+257 3.78912899e+000             nan\n",
      " 1.00000000e+000 1.00000000e+000             nan 1.00000000e+000\n",
      "             nan 1.00000000e+000 6.93162904e-310 6.43666542e+000\n",
      "             nan 1.00000000e+000 6.93162896e-310 1.00000000e+000\n",
      "             nan 1.00000000e+000]\n",
      "-2.047705512397386\n"
     ]
    }
   ],
   "source": [
    "print(max_c)\n",
    "print(c_config[0])"
   ]
  },
  {
   "cell_type": "code",
   "execution_count": 14,
   "metadata": {},
   "outputs": [
    {
     "name": "stderr",
     "output_type": "stream",
     "text": [
      "/tmp/ipykernel_23167/3364599773.py:12: RuntimeWarning: divide by zero encountered in divide\n",
      "  matr_diff[exp,:]=-(max_c-c_config)/max_c\n",
      "/tmp/ipykernel_23167/3364599773.py:12: RuntimeWarning: overflow encountered in divide\n",
      "  matr_diff[exp,:]=-(max_c-c_config)/max_c\n"
     ]
    }
   ],
   "source": [
    "from cProfile import label\n",
    "from matplotlib import legend\n",
    "\n",
    "\n",
    "matr_diff=np.empty((len(exp_dict.keys()),len(exp_dict[0]['max_c'])))\n",
    "for exp in exp_dict.keys():\n",
    "    max_c=np.array(exp_dict[exp]['max_c'])\n",
    "    c_config=np.array(exp_dict[exp]['c_config'])\n",
    "    \n",
    "    #for i in range(len(max_c)):\n",
    "    try:\n",
    "        matr_diff[exp,:]=-(max_c-c_config)/max_c\n",
    "    except:\n",
    "        print('error')\n",
    "        print(exp)\n",
    "        print(max_c)\n",
    "        print(c_config)\n",
    "    \n",
    "#plt.plot(max_c,label='max_c')\n",
    "#plt.plot(c_config, label='c_config')\n",
    "     "
   ]
  },
  {
   "cell_type": "code",
   "execution_count": 13,
   "metadata": {},
   "outputs": [
    {
     "name": "stderr",
     "output_type": "stream",
     "text": [
      "/home/mdelcastillo/proyectos/EGNN-TopologyControl/.venv/lib/python3.10/site-packages/numpy/core/_methods.py:173: RuntimeWarning: invalid value encountered in subtract\n",
      "  x = asanyarray(arr - arrmean)\n"
     ]
    },
    {
     "data": {
      "text/plain": [
       "<matplotlib.collections.LineCollection at 0x7f14c82c53f0>"
      ]
     },
     "execution_count": 13,
     "metadata": {},
     "output_type": "execute_result"
    },
    {
     "data": {
      "image/png": "[encoded data removed]",
      "text/plain": [
       "<Figure size 640x480 with 1 Axes>"
      ]
     },
     "metadata": {},
     "output_type": "display_data"
    }
   ],
   "source": [
    "medias = np.mean(matr_diff, axis=0)\n",
    "std = np.std(matr_diff, axis=0)\n",
    "plt.plot(medias)\n",
    "plt.fill_between(range(len(medias)), medias-std, medias+std, alpha=0.3)\n",
    "#for i in range(matr_diff.shape[0]):\n",
    "#    plt.plot(matr_diff[i,:])\n",
    "plt.hlines(0,0,len(medias))"
   ]
  },
  {
   "cell_type": "code",
   "execution_count": null,
   "metadata": {},
   "outputs": [],
   "source": []
  },
  {
   "cell_type": "code",
   "execution_count": null,
   "metadata": {},
   "outputs": [],
   "source": []
  }
 ],
 "metadata": {
  "kernelspec": {
   "display_name": ".venv",
   "language": "python",
   "name": "python3"
  },
  "language_info": {
   "codemirror_mode": {
    "name": "ipython",
    "version": 3
   },
   "file_extension": ".py",
   "mimetype": "text/x-python",
   "name": "python",
   "nbconvert_exporter": "python",
   "pygments_lexer": "ipython3",
   "version": "3.10.12"
  }
 },
 "nbformat": 4,
 "nbformat_minor": 2
}
