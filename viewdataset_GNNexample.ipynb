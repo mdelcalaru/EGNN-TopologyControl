{
 "cells": [
  {
   "cell_type": "code",
   "execution_count": null,
   "metadata": {},
   "outputs": [],
   "source": [
    "import pickle as pk\n",
    "import glob\n",
    "from utils.utils import graph_plot\n",
    "from graph_model import LightningEGNN_net\n",
    "import torch\n",
    "from pathlib import Path"
   ]
  },
  {
   "cell_type": "code",
   "execution_count": null,
   "metadata": {},
   "outputs": [],
   "source": [
    "dir='data/'\n",
    "\n",
    "TRAIN_DATA_FILES=glob.glob(dir +\"*_train.pt\")\n",
    "VAL_DATA_FILES=glob.glob(dir+\"*_val.pt\")\n",
    "train_dataset=None\n",
    "for TRAIN_DATA_FILE in TRAIN_DATA_FILES:\n",
    "    with open(TRAIN_DATA_FILE, 'rb') as f:\n",
    "        if train_dataset is None:\n",
    "            train_dataset = pk.load(f)\n",
    "        else:\n",
    "            train_dataset+=pk.load(f)\n",
    "\n",
    "val_dataset = None\n",
    "for VAL_DATA_FILE in VAL_DATA_FILES:\n",
    "    with open(VAL_DATA_FILE, 'rb') as f:\n",
    "        if val_dataset is None:\n",
    "            val_dataset = pk.load(f)\n",
    "        else:\n",
    "            val_dataset+=pk.load(f)   \n",
    "            \n",
    "print('train',len(train_dataset))   "
   ]
  },
  {
   "cell_type": "code",
   "execution_count": null,
   "metadata": {},
   "outputs": [],
   "source": [
    "\n",
    "artifact_dir=\"model/EGNN_best_model.ckpt\"\n",
    "model_file = Path(artifact_dir)\n",
    "\n",
    "model =LightningEGNN_net.load_from_checkpoint(model_file)\n",
    "for i, data in enumerate(train_dataset):\n",
    "    data=data.to(model.device)\n",
    "    with torch.no_grad():\n",
    "        xt, edge_index, edge_attr, positions, batch= data.x, data.edge_index, data.edge_attr, data.pos, data.batch\n",
    "        y_model=model.forward(xt, edge_index, edge_attr,positions,batch)\n",
    "    if (torch.abs(y_model-data.y)>0.1).any():\n",
    "        print(i, ': ', y_model-data.y)\n"
   ]
  },
  {
   "cell_type": "code",
   "execution_count": null,
   "metadata": {},
   "outputs": [],
   "source": [
    "graph_plot(train_dataset[3].to('cpu'))"
   ]
  }
 ],
 "metadata": {
  "kernelspec": {
   "display_name": ".venv",
   "language": "python",
   "name": "python3"
  },
  "language_info": {
   "codemirror_mode": {
    "name": "ipython",
    "version": 3
   },
   "file_extension": ".py",
   "mimetype": "text/x-python",
   "name": "python",
   "nbconvert_exporter": "python",
   "pygments_lexer": "ipython3",
   "version": "3.10.12"
  },
  "orig_nbformat": 4
 },
 "nbformat": 4,
 "nbformat_minor": 2
}
